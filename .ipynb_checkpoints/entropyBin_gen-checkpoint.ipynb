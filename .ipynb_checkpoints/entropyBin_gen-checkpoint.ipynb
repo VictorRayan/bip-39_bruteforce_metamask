{
 "cells": [
  {
   "cell_type": "code",
   "execution_count": 1,
   "id": "90cd2f6f-3dd3-4055-a968-0c0ab20e928f",
   "metadata": {},
   "outputs": [],
   "source": [
    "import os\n",
    "import pandas as pd\n",
    "import random\n",
    "\n",
    "#Check if the file already exists, and if not creates a new blank file to receive \n",
    "#all entropy combinations.\n",
    "try:\n",
    "    file = open('entropy.csv', 'a')\n",
    "except:\n",
    "    file = open('entropy.csv', 'w')\n",
    "    file.write('')\n",
    "    \n",
    "file = open('entropy.csv', 'a')\n",
    "\n",
    "seed_words=12 #use 128 bits ascii to generate 12 words in seed phrase\n",
    "seed_bits=32 #use 256 bits ascii to generate 24 words in seed phrase\n",
    "\n",
    "#verify the type of seed phrase will be generated\n",
    "if(seed_words==12): \n",
    "    seed_bits=32\n",
    "else:\n",
    "    seed_bits=64\n",
    "\n",
    "df=[] #initialize the dataframe object, that contais all combinations made\n",
    "entropy=''\n",
    "entropy=entropy.ljust(seed_bits*4) #alocate the nedded length (bits) to the entopry variable.\n",
    "REQUIRED_COMBINATIONS_NUM = 1000 #number of new binary combinations to do\n",
    "\n"
   ]
  },
  {
   "cell_type": "code",
   "execution_count": 2,
   "id": "dfa93a99-7165-437e-b7ff-afce6b1a6584",
   "metadata": {},
   "outputs": [],
   "source": [
    "#fill a dataframe object with the entropy file values, separating each value by line breaks\n",
    "def load_entropy():\n",
    "    df_ = pd.read_csv('entropy.csv', header=None)\n",
    "    return df_"
   ]
  },
  {
   "cell_type": "code",
   "execution_count": 3,
   "id": "b235b5d1-cd14-408b-be41-cd9a5a7984b4",
   "metadata": {},
   "outputs": [],
   "source": [
    "#this funcion generates radom and different entropy combinations and save into 'entropy.txt'\n",
    "def combinations_gen(dataf):\n",
    " \n",
    "    \n",
    "   for num in range(REQUIRED_COMBINATIONS_NUM):\n",
    "        entropy = last_bin = dataf[0][len(dataf)-1]\n",
    "        random_bin = [None]*(seed_bits*4)\n",
    "        while(entropy==last_bin):\n",
    "            entropy=''\n",
    "            for x in range(len(random_bin)):\n",
    "                random_bin[x]=random.randint(0,1)\n",
    "                entropy += str(random_bin[x])\n",
    "    \n",
    "        file_entr = open('entropy.csv', 'a')\n",
    "        file_entr.write(entropy+\"\\n\")\n",
    "        load_entropy()\n",
    "        "
   ]
  },
  {
   "cell_type": "code",
   "execution_count": 4,
   "id": "45b96f0d-3b15-4eb7-a818-0829340bd5c8",
   "metadata": {},
   "outputs": [],
   "source": [
    "df = load_entropy()\n",
    "\n",
    "combinations_gen(df)"
   ]
  },
  {
   "cell_type": "code",
   "execution_count": 239,
   "id": "3fad893c-00bc-4200-8aeb-3e37da116b69",
   "metadata": {},
   "outputs": [
    {
     "name": "stdout",
     "output_type": "stream",
     "text": [
      "                                                      0\n",
      "0     1111111111111111111111111111111111111111111111...\n",
      "1     0111110101101000100010110111101101101000100101...\n",
      "2     0100001011101010111010100101011101111101100100...\n",
      "3     0110000110111100110001100011101001010110001001...\n",
      "4     1110010101011011101111011001000010101101101001...\n",
      "...                                                 ...\n",
      "3296  1111111001001111011000100110110101000010101111...\n",
      "3297  0011110111000010010100101001100001101110010110...\n",
      "3298  0101000000100101111110101000111110011001110001...\n",
      "3299  1011101001001100110100111101101000001101000101...\n",
      "3300  0011000001010011101001001001111011000111101111...\n",
      "\n",
      "[3301 rows x 1 columns]\n"
     ]
    }
   ],
   "source": [
    "df = load_entropy()\n",
    "print(df)"
   ]
  },
  {
   "cell_type": "code",
   "execution_count": null,
   "id": "1a4df31a-111f-45d7-b56c-3dba05636d64",
   "metadata": {},
   "outputs": [],
   "source": []
  }
 ],
 "metadata": {
  "kernelspec": {
   "display_name": "Python 3 (ipykernel)",
   "language": "python",
   "name": "python3"
  },
  "language_info": {
   "codemirror_mode": {
    "name": "ipython",
    "version": 3
   },
   "file_extension": ".py",
   "mimetype": "text/x-python",
   "name": "python",
   "nbconvert_exporter": "python",
   "pygments_lexer": "ipython3",
   "version": "3.9.7"
  }
 },
 "nbformat": 4,
 "nbformat_minor": 5
}
